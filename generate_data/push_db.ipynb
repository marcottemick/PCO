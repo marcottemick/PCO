{
 "cells": [
  {
   "cell_type": "code",
   "execution_count": 1,
   "metadata": {},
   "outputs": [],
   "source": [
    "import pandas as pd\n",
    "from sqlalchemy import create_engine\n",
    "import os\n",
    "\n",
    "file = 'G:/Mon Drive/PCO/data/'\n",
    "\n",
    "def send_to_SQL(db_table):\n",
    "    # Paramètres de connexion à la base de données MySQL\n",
    "    db_username = os.getenv('DB_USER')\n",
    "    db_password = os.getenv('DB_PASSWORD')\n",
    "    db_host = os.getenv('DB_HOST')\n",
    "    db_port = os.getenv('DB_PORT')\n",
    "    db_database = os.getenv('DB_DATABASE')\n",
    "\n",
    "    df = pd.read_csv(f'{file}{db_table}.csv', sep=';')\n",
    "\n",
    "    # Créer une connexion à la base de données MySQL avec SQLAlchemy\n",
    "    engine = create_engine(f\"mysql+pymysql://{db_username}:{db_password}@{db_host}:{db_port}/{db_database}\")\n",
    "\n",
    "    # # Envoyer le DataFrame en tant que table MySQL\n",
    "    df.to_sql(name=db_table, con=engine, index=False, if_exists='replace')\n",
    "\n",
    "    # Récupérer les données de la table MySQL\n",
    "    query = f\"SELECT * FROM {db_table}\"\n",
    "    df_from_mysql = pd.read_sql(query, con=engine)\n",
    "\n",
    "    # Afficher le DataFrame récupéré depuis MySQL\n",
    "    print(\"DataFrame récupéré depuis MySQL:\")\n",
    "    print(df_from_mysql)"
   ]
  },
  {
   "cell_type": "code",
   "execution_count": 2,
   "metadata": {},
   "outputs": [
    {
     "name": "stdout",
     "output_type": "stream",
     "text": [
      "DataFrame récupéré depuis MySQL:\n",
      "                   name  id_med\n",
      "0   Dr Zacharie Mercier       0\n",
      "1    Dr Olivier Bernier       1\n",
      "2     Dr Antoine Brunet       2\n",
      "3          Dr Luc Hamel       3\n",
      "4    Dr Frédéric Martel       4\n",
      "..                  ...     ...\n",
      "95      Dr Andrée Guyot      95\n",
      "96      Dr Andrée Leleu      96\n",
      "97   Dr Simone Bertrand      97\n",
      "98      Dr Alix Rolland      98\n",
      "99  Dr Lorraine Bonneau      99\n",
      "\n",
      "[100 rows x 2 columns]\n"
     ]
    }
   ],
   "source": [
    "datas = ['anatomopathologists', \n",
    "        #  'patients', 'diagnostics'\n",
    "         ]\n",
    "\n",
    "for data in datas:\n",
    "    send_to_SQL(data)"
   ]
  }
 ],
 "metadata": {
  "kernelspec": {
   "display_name": ".venv",
   "language": "python",
   "name": "python3"
  },
  "language_info": {
   "codemirror_mode": {
    "name": "ipython",
    "version": 3
   },
   "file_extension": ".py",
   "mimetype": "text/x-python",
   "name": "python",
   "nbconvert_exporter": "python",
   "pygments_lexer": "ipython3",
   "version": "3.10.9"
  }
 },
 "nbformat": 4,
 "nbformat_minor": 2
}
