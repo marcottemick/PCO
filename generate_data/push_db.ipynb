{
 "cells": [
  {
   "cell_type": "code",
   "execution_count": 1,
   "metadata": {},
   "outputs": [],
   "source": [
    "import pandas as pd\n",
    "from sqlalchemy import create_engine\n",
    "import os\n",
    "\n",
    "file = 'G:/Mon Drive/PCO/data/'\n",
    "\n",
    "def send_to_SQL(db_table):\n",
    "    # Paramètres de connexion à la base de données MySQL\n",
    "    db_username = os.getenv('DB_USER')\n",
    "    db_password = os.getenv('DB_PASSWORD')\n",
    "    db_host = os.getenv('DB_HOST')\n",
    "    db_port = os.getenv('DB_PORT')\n",
    "    db_database = os.getenv('DB_DATABASE')\n",
    "\n",
    "    df = pd.read_csv(f'{file}{db_table}.csv', sep=';')\n",
    "\n",
    "    # Créer une connexion à la base de données MySQL avec SQLAlchemy\n",
    "    engine = create_engine(f\"mysql+pymysql://{db_username}:{db_password}@{db_host}:{db_port}/{db_database}\")\n",
    "\n",
    "    # # Envoyer le DataFrame en tant que table MySQL\n",
    "    df.to_sql(name=db_table, con=engine, index=False, if_exists='replace')\n",
    "\n",
    "    # Récupérer les données de la table MySQL\n",
    "    query = f\"SELECT * FROM {db_table}\"\n",
    "    df_from_mysql = pd.read_sql(query, con=engine)\n",
    "\n",
    "    # Afficher le DataFrame récupéré depuis MySQL\n",
    "    print(\"DataFrame récupéré depuis MySQL:\")\n",
    "    print(df_from_mysql)"
   ]
  },
  {
   "cell_type": "code",
   "execution_count": 2,
   "metadata": {},
   "outputs": [
    {
     "name": "stdout",
     "output_type": "stream",
     "text": [
      "DataFrame récupéré depuis MySQL:\n",
      "                   name  id_med\n",
      "0   Dr Zacharie Mercier       0\n",
      "1    Dr Olivier Bernier       1\n",
      "2     Dr Antoine Brunet       2\n",
      "3          Dr Luc Hamel       3\n",
      "4    Dr Frédéric Martel       4\n",
      "..                  ...     ...\n",
      "95      Dr Andrée Guyot      95\n",
      "96      Dr Andrée Leleu      96\n",
      "97   Dr Simone Bertrand      97\n",
      "98      Dr Alix Rolland      98\n",
      "99  Dr Lorraine Bonneau      99\n",
      "\n",
      "[100 rows x 2 columns]\n",
      "DataFrame récupéré depuis MySQL:\n",
      "                   name                                       address  \\\n",
      "0       Gilbert Étienne      49, boulevard de Jacques, 21813 Legendre   \n",
      "1      Joseph Berthelot      avenue Georges David, 65552 Saint Simone   \n",
      "2      Guillaume Samson     611, boulevard Rey, 65501 Saint AnneVille   \n",
      "3     Alexandre Clément              3, boulevard Simon, 74510 Devaux   \n",
      "4        Étienne Techer                 avenue de Munoz, 46329 Giraud   \n",
      "..                  ...                                           ...   \n",
      "395     Laure Schneider         avenue Susan Gilles, 50703 Lucasboeuf   \n",
      "396       Maryse Picard                 60, rue Godard, 61953 Le Roux   \n",
      "397     Céline De Sousa             rue Caroline Simon, 24910 Antoine   \n",
      "398  Élisabeth Vaillant            9, chemin de Foucher, 44228 Durand   \n",
      "399      Audrey Buisson  64, rue de Devaux, 59334 Sainte ThérèseVille   \n",
      "\n",
      "       birthday                     nir  \n",
      "0    15/01/1963  1 1963 01 21813 466 38  \n",
      "1    04/11/1960  1 1960 11 65552 524 96  \n",
      "2    19/06/1948  1 1948 06 65501 880 61  \n",
      "3    17/03/1998  1 1998 03 74510 756 57  \n",
      "4    26/07/1993  1 1993 07 46329 513 71  \n",
      "..          ...                     ...  \n",
      "395  25/06/1966  2 1966 06 50703 130 24  \n",
      "396  05/07/1977  2 1977 07 61953 913 20  \n",
      "397  05/04/1991  2 1991 04 24910 146 64  \n",
      "398  03/04/1982  2 1982 04 44228 865 43  \n",
      "399  19/02/1976  2 1976 02 59334 635 94  \n",
      "\n",
      "[400 rows x 4 columns]\n",
      "DataFrame récupéré depuis MySQL:\n",
      "   organe                                   diagnostic  cancer  id_diag\n",
      "0    peau                                    psoriasis       0        0\n",
      "1    peau                           dermatite atopique       0        1\n",
      "2    peau                           lupus érythémateux       0        2\n",
      "3    peau                       dermatite herpétiforme       0        3\n",
      "4    peau                                  lichen plan       0        4\n",
      "..    ...                                          ...     ...      ...\n",
      "79   foie                   carcinome hépatocellulaire       1       79\n",
      "80   foie  cancer des canaux biliaires intrahépatiques       1       80\n",
      "81   foie                      lymphome non hodgkinien       1       83\n",
      "82   foie                               hépatoblastome       1       84\n",
      "83   foie                           cholangiocarcinome       1       85\n",
      "\n",
      "[84 rows x 4 columns]\n"
     ]
    }
   ],
   "source": [
    "datas = ['anatomopathologists', 'patients', 'diagnostics']\n",
    "\n",
    "for data in datas:\n",
    "    send_to_SQL(data)"
   ]
  }
 ],
 "metadata": {
  "kernelspec": {
   "display_name": ".venv",
   "language": "python",
   "name": "python3"
  },
  "language_info": {
   "codemirror_mode": {
    "name": "ipython",
    "version": 3
   },
   "file_extension": ".py",
   "mimetype": "text/x-python",
   "name": "python",
   "nbconvert_exporter": "python",
   "pygments_lexer": "ipython3",
   "version": "3.10.9"
  }
 },
 "nbformat": 4,
 "nbformat_minor": 2
}
