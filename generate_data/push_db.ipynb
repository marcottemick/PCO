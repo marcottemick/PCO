{
 "cells": [
  {
   "cell_type": "code",
   "execution_count": 1,
   "metadata": {},
   "outputs": [],
   "source": [
    "import pandas as pd\n",
    "from sqlalchemy import create_engine\n",
    "import os\n",
    "\n",
    "file = 'G:/Mon Drive/PCO/data/'\n",
    "\n",
    "def send_to_SQL(db_table):\n",
    "    # Paramètres de connexion à la base de données MySQL\n",
    "    db_username = os.getenv('DB_USER')\n",
    "    db_password = os.getenv('DB_PASSWORD')\n",
    "    db_host = os.getenv('DB_HOST')\n",
    "    db_port = os.getenv('DB_PORT')\n",
    "    db_database = os.getenv('DB_DATABASE')\n",
    "\n",
    "    df = pd.read_csv(f'{file}{db_table}.csv', sep=';')\n",
    "\n",
    "    # Créer une connexion à la base de données MySQL avec SQLAlchemy\n",
    "    engine = create_engine(f\"mysql+pymysql://{db_username}:{db_password}@{db_host}:{db_port}/{db_database}\")\n",
    "\n",
    "    # # Envoyer le DataFrame en tant que table MySQL\n",
    "    df.to_sql(name=db_table, con=engine, index=False, if_exists='replace')\n",
    "\n",
    "    # Récupérer les données de la table MySQL\n",
    "    query = f\"SELECT * FROM {db_table}\"\n",
    "    df_from_mysql = pd.read_sql(query, con=engine)\n",
    "\n",
    "    # Afficher le DataFrame récupéré depuis MySQL\n",
    "    print(\"DataFrame récupéré depuis MySQL:\")\n",
    "    print(df_from_mysql)"
   ]
  },
  {
   "cell_type": "code",
   "execution_count": 2,
   "metadata": {},
   "outputs": [
    {
     "name": "stdout",
     "output_type": "stream",
     "text": [
      "DataFrame récupéré depuis MySQL:\n",
      "     id_diag                           diagnostic  generation    statut\n",
      "0          0                                abcès           0     Train\n",
      "1          1  acrodermatite chronique atrophiante           0     Train\n",
      "2          2                       adénocarcinome           1     Train\n",
      "3          3                     adénome tubuleux           0     Train\n",
      "4          4                adénome tubulovilleux           0     Train\n",
      "..       ...                                  ...         ...       ...\n",
      "389      391                              sarcome           1  Train-v1\n",
      "390      392                          lichen plan           1  Train-v1\n",
      "391      393                maladie de Langerhans           0     Train\n",
      "392      394                    syndrome de Lyell           0     Train\n",
      "393      395                             mélanome           1  Train-v1\n",
      "\n",
      "[394 rows x 4 columns]\n"
     ]
    },
    {
     "ename": "",
     "evalue": "",
     "output_type": "error",
     "traceback": [
      "\u001b[1;31mLe noyau s’est bloqué lors de l’exécution du code dans une cellule active ou une cellule précédente. \n",
      "\u001b[1;31mVeuillez vérifier le code dans la ou les cellules pour identifier une cause possible de l’échec. \n",
      "\u001b[1;31mCliquez <a href='https://aka.ms/vscodeJupyterKernelCrash'>ici</a> pour plus d’informations. \n",
      "\u001b[1;31mPour plus d’informations, consultez Jupyter <a href='command:jupyter.viewOutput'>log</a>."
     ]
    }
   ],
   "source": [
    "datas = [\n",
    "        # 'anatomopathologists', \n",
    "        #  'patients', \n",
    "        'diagnostics_v2'\n",
    "         ]\n",
    "\n",
    "for data in datas:\n",
    "    send_to_SQL(data)"
   ]
  }
 ],
 "metadata": {
  "kernelspec": {
   "display_name": ".venv",
   "language": "python",
   "name": "python3"
  },
  "language_info": {
   "codemirror_mode": {
    "name": "ipython",
    "version": 3
   },
   "file_extension": ".py",
   "mimetype": "text/x-python",
   "name": "python",
   "nbconvert_exporter": "python",
   "pygments_lexer": "ipython3",
   "version": "3.10.9"
  }
 },
 "nbformat": 4,
 "nbformat_minor": 2
}
