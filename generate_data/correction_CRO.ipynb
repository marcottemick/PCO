{
 "cells": [
  {
   "cell_type": "code",
   "execution_count": 6,
   "metadata": {},
   "outputs": [],
   "source": [
    "import pandas as pd\n",
    "file = 'G:/Mon Drive/PCO/data/'\n",
    "\n",
    "dtypes = {\n",
    "    'CRO': str,\n",
    "    'id_diag': int,\n",
    "    'id_med': int,\n",
    "    'nir': str,\n",
    "    'source':str,\n",
    "    'operation':str\n",
    "}"
   ]
  },
  {
   "cell_type": "code",
   "execution_count": 7,
   "metadata": {},
   "outputs": [
    {
     "name": "stdout",
     "output_type": "stream",
     "text": [
      "nb de CRO total: 6456\n"
     ]
    }
   ],
   "source": [
    "# chargement des CRO générés avec deux modèles différents\n",
    "CRO = pd.read_csv(f'{file}\\CROs_df.csv', sep=';', dtype=dtypes)\n",
    "print('nb de CRO total:', len(CRO))"
   ]
  },
  {
   "cell_type": "code",
   "execution_count": 12,
   "metadata": {},
   "outputs": [
    {
     "name": "stdout",
     "output_type": "stream",
     "text": [
      "125\n"
     ]
    }
   ],
   "source": [
    "index = [1, 3, 18, 29, 34, 44, 46, 53, 70, 71, 80, 86, 92, 250, 291, 295, \n",
    "         309, 322, 333, 341, 344, 360, 361, 365, 400, 416, 428, 459, 471, \n",
    "         478, 483, 489, 507, 508, 512, 515, 521, 541, 593, 599, 601, 642, \n",
    "         643, 661, 677, 687, 699, 702, 708, 735, 748, 759, 785, 790, 801, \n",
    "         807, 812, 850, 861, 867, 868, 869, 878, 890, 925, 951, 954, 962, \n",
    "         971, 1006, 1012, 1028, 1039, 1040, 1049, 1050, 1055, 1066, 1077, \n",
    "         1090, 1114, 1122, 1131, 1137, 1139, 1150, 1153, 1164, 1170, 1173, \n",
    "         1179, 1196, 1214, 1218, 1220, 1232, 1240, 1243, 1271, 1278, 1282,\n",
    "         1283, 1288, 1294, 1295, 1319, 1347, 1348, 1349, 1357, 1370, 1387, \n",
    "         1413, 1431, 1544, 1569, 1576, 1577, 1648, 1659, 1771, 1927, 1938,\n",
    "         1956, 1972 ]\n",
    "print(len(index))\n",
    "for i in index:\n",
    "    CRO.loc[i, 'CRO'] +=  \"\"\"\n",
    "Note : Ceci est un compte rendu fictif.\n",
    "\"\"\"\n",
    "\n",
    "CRO.to_csv(f'{file}\\CROs_df.csv', sep=';', index=False)"
   ]
  }
 ],
 "metadata": {
  "kernelspec": {
   "display_name": ".venv",
   "language": "python",
   "name": "python3"
  },
  "language_info": {
   "codemirror_mode": {
    "name": "ipython",
    "version": 3
   },
   "file_extension": ".py",
   "mimetype": "text/x-python",
   "name": "python",
   "nbconvert_exporter": "python",
   "pygments_lexer": "ipython3",
   "version": "3.10.9"
  }
 },
 "nbformat": 4,
 "nbformat_minor": 2
}
